{
 "cells": [
  {
   "cell_type": "code",
   "execution_count": 1,
   "metadata": {},
   "outputs": [],
   "source": [
    "# Client_ID = 'xTP3YqTlRNfJzt_pnv4kaQ'\n",
    "# Client_Secret = '_k7VzWIRxOZqfPkh-fIwIz3ONFROJQ'"
   ]
  },
  {
   "cell_type": "code",
   "execution_count": 2,
   "metadata": {},
   "outputs": [],
   "source": [
    "import requests\n",
    "import json"
   ]
  },
  {
   "cell_type": "markdown",
   "metadata": {},
   "source": [
    "### First Cycle"
   ]
  },
  {
   "cell_type": "code",
   "execution_count": 3,
   "metadata": {},
   "outputs": [
    {
     "name": "stdout",
     "output_type": "stream",
     "text": [
      "https://www.reddit.com/api/v1/authorize?client_id=xTP3YqTlRNfJzt_pnv4kaQ&response_type=code&state=random_123&redirect_uri=https%3A%2F%2Fwww.google.com&scope=read\n"
     ]
    }
   ],
   "source": [
    "data = {'client_id' : 'xTP3YqTlRNfJzt_pnv4kaQ', 'response_type': 'code', 'state': 'random_123', 'redirect_uri': 'https://www.google.com', 'scope': 'read'}\n",
    "response = requests.get('https://www.reddit.com/api/v1/authorize?', params=data)\n",
    "print(response.url)\n",
    "\n"
   ]
  },
  {
   "cell_type": "code",
   "execution_count": 4,
   "metadata": {},
   "outputs": [],
   "source": [
    "#Code - u_Zeg4m8EswNp8jLQkILVQO6SYTL4A#_"
   ]
  },
  {
   "cell_type": "markdown",
   "metadata": {},
   "source": [
    "### Second Cycle"
   ]
  },
  {
   "cell_type": "code",
   "execution_count": 6,
   "metadata": {},
   "outputs": [
    {
     "name": "stdout",
     "output_type": "stream",
     "text": [
      "{\"error\": \"invalid_grant\"}\n"
     ]
    }
   ],
   "source": [
    "data1 = {'grant_type': 'authorization_code', \n",
    "        'code' : 'u_Zeg4m8EswNp8jLQkILVQO6SYTL4A#_' ,\n",
    "        'redirect_uri': 'https://www.google.com' }\n",
    "\n",
    "r = requests.post('https://www.reddit.com/api/v1/access_token', \n",
    "                  data = data1, \n",
    "                  auth=('xTP3YqTlRNfJzt_pnv4kaQ', '_k7VzWIRxOZqfPkh-fIwIz3ONFROJQ' ),\n",
    "                  headers = {'User-Agent': 'Avishek_Roy16'})\n",
    "\n",
    "print(r.text)"
   ]
  },
  {
   "cell_type": "code",
   "execution_count": null,
   "metadata": {},
   "outputs": [],
   "source": [
    "h = {'User-Agent': 'Avishek_Roy16', 'Authorization': 'bearer' TOKEN}\n",
    "r = requests.get('https://oauth.reddit.com/best', headers = h)\n",
    "data = r.json\n",
    "data"
   ]
  }
 ],
 "metadata": {
  "interpreter": {
   "hash": "5f64f01a6cdb813bd23f3c2980301e513b65108ef9650403b1a46775be8a9390"
  },
  "kernelspec": {
   "display_name": "Python 3.8.8 ('base')",
   "language": "python",
   "name": "python3"
  },
  "language_info": {
   "codemirror_mode": {
    "name": "ipython",
    "version": 3
   },
   "file_extension": ".py",
   "mimetype": "text/x-python",
   "name": "python",
   "nbconvert_exporter": "python",
   "pygments_lexer": "ipython3",
   "version": "3.8.8"
  },
  "orig_nbformat": 4
 },
 "nbformat": 4,
 "nbformat_minor": 2
}

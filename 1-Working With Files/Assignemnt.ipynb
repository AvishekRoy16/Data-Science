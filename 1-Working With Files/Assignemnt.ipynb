{
 "cells": [
  {
   "cell_type": "markdown",
   "metadata": {},
   "source": [
    "# Working with files - Assignment"
   ]
  },
  {
   "cell_type": "markdown",
   "metadata": {},
   "source": [
    "### Q-1 Job Location"
   ]
  },
  {
   "cell_type": "markdown",
   "metadata": {},
   "source": [
    "Problem Statement :  \n",
    "Find number of job openings in Bangalore,IN and in Seattle,US?  \n",
    "Print the Number of Job opening in Bangalore and Seattle as Integer value."
   ]
  },
  {
   "cell_type": "code",
   "execution_count": 7,
   "metadata": {},
   "outputs": [
    {
     "name": "stdout",
     "output_type": "stream",
     "text": [
      "66 1856\n"
     ]
    }
   ],
   "source": [
    "import csv\n",
    "with open('amazon_jobs_dataset.csv') as file_obj:\n",
    "    file_data = csv.DictReader(file_obj, skipinitialspace = True)\n",
    "    \n",
    "    opening_bangalore = 0\n",
    "    opening_seattle = 0\n",
    "    for row in file_data:\n",
    "        if 'Bangalore' in row['location']:\n",
    "            opening_bangalore += 1\n",
    "        if 'Seattle' in row['location']:\n",
    "            opening_seattle += 1\n",
    "    print(opening_bangalore, opening_seattle)\n",
    "            \n"
   ]
  },
  {
   "cell_type": "markdown",
   "metadata": {},
   "source": [
    "### Job Computer Vision"
   ]
  },
  {
   "cell_type": "markdown",
   "metadata": {},
   "source": [
    "Problem Statement :  \n",
    "What are the total number of job openings related to Computer Vision ?  \n",
    "Note:For finding the job related to computer vision check the Job Title column.  \n",
    "Print the count as the Integer Value"
   ]
  },
  {
   "cell_type": "code",
   "execution_count": 8,
   "metadata": {},
   "outputs": [
    {
     "name": "stdout",
     "output_type": "stream",
     "text": [
      "14\n"
     ]
    }
   ],
   "source": [
    "with open('amazon_jobs_dataset.csv') as file_obj:\n",
    "    file_data = csv.DictReader(file_obj, skipinitialspace = True)\n",
    "    jobs = 0\n",
    "    for row in file_data:\n",
    "        if 'Computer Vision' in row['Title']:\n",
    "            jobs += 1\n",
    "print(jobs)"
   ]
  },
  {
   "cell_type": "markdown",
   "metadata": {},
   "source": [
    "### Q3 Jobs Canada"
   ]
  },
  {
   "cell_type": "markdown",
   "metadata": {},
   "source": [
    "Problem Statement :  \n",
    "Find the number of job openings in Canada?  \n",
    "Print the count as the Integer Value  \n",
    "Note: Here you should analyse the country code in location feature."
   ]
  },
  {
   "cell_type": "code",
   "execution_count": 12,
   "metadata": {},
   "outputs": [
    {
     "name": "stdout",
     "output_type": "stream",
     "text": [
      "156\n"
     ]
    }
   ],
   "source": [
    "with open('amazon_jobs_dataset.csv') as file_data:\n",
    "    file_data = csv.DictReader(file_data, skipinitialspace = True)\n",
    "    canada_jobs = 0\n",
    "    for row in file_data:\n",
    "        if row['location'].startswith('CA'):\n",
    "            canada_jobs += 1\n",
    "    print(canada_jobs)"
   ]
  },
  {
   "cell_type": "markdown",
   "metadata": {},
   "source": [
    "### Q4 Job Month 2018"
   ]
  },
  {
   "cell_type": "markdown",
   "metadata": {},
   "source": [
    "Problem Statement :  \n",
    "Find the month having most job openings in Year 2018 ?  \n",
    "Print the month (Month Name i.e January, February, March) and Number of job opening as Integer Value"
   ]
  },
  {
   "cell_type": "code",
   "execution_count": 27,
   "metadata": {},
   "outputs": [
    {
     "name": "stdout",
     "output_type": "stream",
     "text": [
      "January 907\n"
     ]
    }
   ],
   "source": [
    "with open('amazon_jobs_dataset.csv') as file_obj:\n",
    "    file_data = csv.DictReader(file_obj, skipinitialspace = True)\n",
    "\n",
    "    d = {}\n",
    "    for row in file_data:\n",
    "        date = row['Posting_date'].split(',')\n",
    "        if date[1].strip() == '2018':\n",
    "            month =date[0].split()[0]\n",
    "            if month in d:\n",
    "                d[month] += 1\n",
    "            else:\n",
    "                d[month] = 1\n",
    "    \n",
    "    count = -1\n",
    "    month_name = ''\n",
    "    for month in d:\n",
    "        if d[month] > count:\n",
    "            count = d[month]\n",
    "            month_name = month\n",
    "        \n",
    "    print(month_name,count)\n",
    "            \n",
    " \n",
    "    "
   ]
  },
  {
   "cell_type": "markdown",
   "metadata": {},
   "source": [
    "### Q5 Job Degree"
   ]
  },
  {
   "cell_type": "markdown",
   "metadata": {},
   "source": [
    "Find the number of job openings are present if applicant have Bachelor degree?  \n",
    "Print the count as Integer value  \n",
    "Note : Here we will use the BASIC QUALIFICATIONS feature to find out whether bachelor degree for Job is required or not. Keywords that can be used are 'Bachelor', 'BS' and 'BA'."
   ]
  },
  {
   "cell_type": "code",
   "execution_count": 30,
   "metadata": {},
   "outputs": [
    {
     "name": "stdout",
     "output_type": "stream",
     "text": [
      "2961\n"
     ]
    }
   ],
   "source": [
    "with open('amazon_jobs_dataset.csv', 'r', encoding=\"utf8\") as file_obj :\n",
    "    csv_data = csv.DictReader(file_obj, skipinitialspace = True)\n",
    "    \n",
    "    count = 0\n",
    "    for row in csv_data:\n",
    "        if 'Bachelor' in row['BASIC QUALIFICATIONS'] or 'BA' in row['BASIC QUALIFICATIONS'] or 'BS' in row['BASIC QUALIFICATIONS']:\n",
    "            count += 1\n",
    "    print(count)"
   ]
  }
 ],
 "metadata": {
  "interpreter": {
   "hash": "5f64f01a6cdb813bd23f3c2980301e513b65108ef9650403b1a46775be8a9390"
  },
  "kernelspec": {
   "display_name": "Python 3.8.8 64-bit ('base': conda)",
   "language": "python",
   "name": "python3"
  },
  "language_info": {
   "codemirror_mode": {
    "name": "ipython",
    "version": 3
   },
   "file_extension": ".py",
   "mimetype": "text/x-python",
   "name": "python",
   "nbconvert_exporter": "python",
   "pygments_lexer": "ipython3",
   "version": "3.8.8"
  },
  "orig_nbformat": 4
 },
 "nbformat": 4,
 "nbformat_minor": 2
}

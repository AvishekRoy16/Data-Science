{
 "cells": [
  {
   "cell_type": "code",
   "execution_count": 2,
   "metadata": {},
   "outputs": [],
   "source": [
    "import pandas as pd"
   ]
  },
  {
   "cell_type": "code",
   "execution_count": 3,
   "metadata": {},
   "outputs": [],
   "source": [
    "iris = pd.read_csv('iris.csv')"
   ]
  },
  {
   "cell_type": "code",
   "execution_count": 4,
   "metadata": {},
   "outputs": [
    {
     "data": {
      "text/html": [
       "<div>\n",
       "<style scoped>\n",
       "    .dataframe tbody tr th:only-of-type {\n",
       "        vertical-align: middle;\n",
       "    }\n",
       "\n",
       "    .dataframe tbody tr th {\n",
       "        vertical-align: top;\n",
       "    }\n",
       "\n",
       "    .dataframe thead th {\n",
       "        text-align: right;\n",
       "    }\n",
       "</style>\n",
       "<table border=\"1\" class=\"dataframe\">\n",
       "  <thead>\n",
       "    <tr style=\"text-align: right;\">\n",
       "      <th></th>\n",
       "      <th>sepal.length</th>\n",
       "      <th>sepal.width</th>\n",
       "      <th>petal.length</th>\n",
       "      <th>petal.width</th>\n",
       "      <th>variety</th>\n",
       "    </tr>\n",
       "  </thead>\n",
       "  <tbody>\n",
       "    <tr>\n",
       "      <th>0</th>\n",
       "      <td>5.1</td>\n",
       "      <td>3.5</td>\n",
       "      <td>1.4</td>\n",
       "      <td>0.2</td>\n",
       "      <td>Setosa</td>\n",
       "    </tr>\n",
       "    <tr>\n",
       "      <th>1</th>\n",
       "      <td>4.9</td>\n",
       "      <td>3.0</td>\n",
       "      <td>1.4</td>\n",
       "      <td>0.2</td>\n",
       "      <td>Setosa</td>\n",
       "    </tr>\n",
       "    <tr>\n",
       "      <th>2</th>\n",
       "      <td>4.7</td>\n",
       "      <td>3.2</td>\n",
       "      <td>1.3</td>\n",
       "      <td>0.2</td>\n",
       "      <td>Setosa</td>\n",
       "    </tr>\n",
       "    <tr>\n",
       "      <th>3</th>\n",
       "      <td>4.6</td>\n",
       "      <td>3.1</td>\n",
       "      <td>1.5</td>\n",
       "      <td>0.2</td>\n",
       "      <td>Setosa</td>\n",
       "    </tr>\n",
       "    <tr>\n",
       "      <th>4</th>\n",
       "      <td>5.0</td>\n",
       "      <td>3.6</td>\n",
       "      <td>1.4</td>\n",
       "      <td>0.2</td>\n",
       "      <td>Setosa</td>\n",
       "    </tr>\n",
       "  </tbody>\n",
       "</table>\n",
       "</div>"
      ],
      "text/plain": [
       "   sepal.length  sepal.width  petal.length  petal.width variety\n",
       "0           5.1          3.5           1.4          0.2  Setosa\n",
       "1           4.9          3.0           1.4          0.2  Setosa\n",
       "2           4.7          3.2           1.3          0.2  Setosa\n",
       "3           4.6          3.1           1.5          0.2  Setosa\n",
       "4           5.0          3.6           1.4          0.2  Setosa"
      ]
     },
     "execution_count": 4,
     "metadata": {},
     "output_type": "execute_result"
    }
   ],
   "source": [
    "df = iris.copy()\n",
    "df.head()"
   ]
  },
  {
   "cell_type": "markdown",
   "metadata": {},
   "source": [
    "### Q1 Find and print count of each kind of flower (separated by space)? "
   ]
  },
  {
   "cell_type": "code",
   "execution_count": 5,
   "metadata": {},
   "outputs": [
    {
     "name": "stdout",
     "output_type": "stream",
     "text": [
      "50 50 50\n"
     ]
    }
   ],
   "source": [
    "count = df['variety'].value_counts()\n",
    "print(count[0], count[1], count[2])"
   ]
  },
  {
   "cell_type": "markdown",
   "metadata": {},
   "source": [
    "### Q2 Find the data of flower “Iris-virginica” type where petal-length > 1.5?  "
   ]
  },
  {
   "cell_type": "code",
   "execution_count": 6,
   "metadata": {},
   "outputs": [
    {
     "name": "stdout",
     "output_type": "stream",
     "text": [
      "6.3 3.3 6.0 2.5 Virginica\n",
      "5.8 2.7 5.1 1.9 Virginica\n",
      "7.1 3.0 5.9 2.1 Virginica\n",
      "6.3 2.9 5.6 1.8 Virginica\n",
      "6.5 3.0 5.8 2.2 Virginica\n",
      "7.6 3.0 6.6 2.1 Virginica\n",
      "4.9 2.5 4.5 1.7 Virginica\n",
      "7.3 2.9 6.3 1.8 Virginica\n",
      "6.7 2.5 5.8 1.8 Virginica\n",
      "7.2 3.6 6.1 2.5 Virginica\n",
      "6.5 3.2 5.1 2.0 Virginica\n",
      "6.4 2.7 5.3 1.9 Virginica\n",
      "6.8 3.0 5.5 2.1 Virginica\n",
      "5.7 2.5 5.0 2.0 Virginica\n",
      "5.8 2.8 5.1 2.4 Virginica\n",
      "6.4 3.2 5.3 2.3 Virginica\n",
      "6.5 3.0 5.5 1.8 Virginica\n",
      "7.7 3.8 6.7 2.2 Virginica\n",
      "7.7 2.6 6.9 2.3 Virginica\n",
      "6.0 2.2 5.0 1.5 Virginica\n",
      "6.9 3.2 5.7 2.3 Virginica\n",
      "5.6 2.8 4.9 2.0 Virginica\n",
      "7.7 2.8 6.7 2.0 Virginica\n",
      "6.3 2.7 4.9 1.8 Virginica\n",
      "6.7 3.3 5.7 2.1 Virginica\n",
      "7.2 3.2 6.0 1.8 Virginica\n",
      "6.2 2.8 4.8 1.8 Virginica\n",
      "6.1 3.0 4.9 1.8 Virginica\n",
      "6.4 2.8 5.6 2.1 Virginica\n",
      "7.2 3.0 5.8 1.6 Virginica\n",
      "7.4 2.8 6.1 1.9 Virginica\n",
      "7.9 3.8 6.4 2.0 Virginica\n",
      "6.4 2.8 5.6 2.2 Virginica\n",
      "6.3 2.8 5.1 1.5 Virginica\n",
      "6.1 2.6 5.6 1.4 Virginica\n",
      "7.7 3.0 6.1 2.3 Virginica\n",
      "6.3 3.4 5.6 2.4 Virginica\n",
      "6.4 3.1 5.5 1.8 Virginica\n",
      "6.0 3.0 4.8 1.8 Virginica\n",
      "6.9 3.1 5.4 2.1 Virginica\n",
      "6.7 3.1 5.6 2.4 Virginica\n",
      "6.9 3.1 5.1 2.3 Virginica\n",
      "5.8 2.7 5.1 1.9 Virginica\n",
      "6.8 3.2 5.9 2.3 Virginica\n",
      "6.7 3.3 5.7 2.5 Virginica\n",
      "6.7 3.0 5.2 2.3 Virginica\n",
      "6.3 2.5 5.0 1.9 Virginica\n",
      "6.5 3.0 5.2 2.0 Virginica\n",
      "6.2 3.4 5.4 2.3 Virginica\n",
      "5.9 3.0 5.1 1.8 Virginica\n"
     ]
    }
   ],
   "source": [
    "df.columns = ['sl', 'sw', 'pl', 'pw', 'flower_type']\n",
    "df = df[df.flower_type == 'Virginica']\n",
    "df = df[df.pl>1.5]\n",
    "# df = df[df.pl > 1.5]\n",
    "df = df.values\n",
    "for row in df:\n",
    "    print(*row)"
   ]
  },
  {
   "cell_type": "markdown",
   "metadata": {},
   "source": [
    "### Q3 ind and print the minimum, maximum and average value of the feature for each kind of flower ?  "
   ]
  },
  {
   "cell_type": "code",
   "execution_count": 7,
   "metadata": {},
   "outputs": [
    {
     "ename": "TypeError",
     "evalue": "must be real number, not str",
     "output_type": "error",
     "traceback": [
      "\u001b[1;31m---------------------------------------------------------------------------\u001b[0m",
      "\u001b[1;31mTypeError\u001b[0m                                 Traceback (most recent call last)",
      "\u001b[1;32m~\\AppData\\Local\\Temp/ipykernel_4364/2670987235.py\u001b[0m in \u001b[0;36m<module>\u001b[1;34m\u001b[0m\n\u001b[0;32m      5\u001b[0m \u001b[1;33m\u001b[0m\u001b[0m\n\u001b[0;32m      6\u001b[0m \u001b[0ma1\u001b[0m \u001b[1;33m=\u001b[0m \u001b[0mdf\u001b[0m\u001b[1;33m[\u001b[0m\u001b[0mdf\u001b[0m\u001b[1;33m.\u001b[0m\u001b[0mflower_type\u001b[0m \u001b[1;33m==\u001b[0m \u001b[1;34m'Setosa'\u001b[0m\u001b[1;33m]\u001b[0m\u001b[1;33m\u001b[0m\u001b[1;33m\u001b[0m\u001b[0m\n\u001b[1;32m----> 7\u001b[1;33m \u001b[0mprint\u001b[0m\u001b[1;33m(\u001b[0m\u001b[1;34m'%.2f'\u001b[0m\u001b[1;33m%\u001b[0m\u001b[0mmin\u001b[0m\u001b[1;33m(\u001b[0m\u001b[0ma1\u001b[0m\u001b[1;33m[\u001b[0m\u001b[1;34m'sl'\u001b[0m\u001b[1;33m]\u001b[0m\u001b[1;33m)\u001b[0m\u001b[1;33m)\u001b[0m\u001b[1;33m\u001b[0m\u001b[1;33m\u001b[0m\u001b[0m\n\u001b[0m",
      "\u001b[1;31mTypeError\u001b[0m: must be real number, not str"
     ]
    }
   ],
   "source": [
    "columns = ['sl','sw','pl','pw','flower_type']\n",
    "iris = pd.read_csv('iris.csv', names=columns)\n",
    "df = iris.copy()\n",
    "df.head()\n",
    "\n",
    "a1 = df[df.flower_type == 'Setosa']\n",
    "print('%.2f'%min(a1['sl']))"
   ]
  },
  {
   "cell_type": "markdown",
   "metadata": {},
   "source": [
    "### Q4 The Most Dangerous city in Jammu and Kashmir and the terrorist group which is most active in that city?\n",
    "Print count of number of attacks in that city as integer value.  \n",
    "Note:Ignoring the Unknown Terrorist Group.Here Dangerous related with the number of terrorist attacks."
   ]
  },
  {
   "cell_type": "code",
   "execution_count": 8,
   "metadata": {},
   "outputs": [
    {
     "name": "stdout",
     "output_type": "stream",
     "text": [
      "Srinagar 657 Muslim Separatists\n"
     ]
    }
   ],
   "source": [
    "import pandas as pd\n",
    "df = pd.read_csv('terrorismData.csv')\n",
    "df = df[df.State=='Jammu and Kashmir']\n",
    "df_list = df['City'].value_counts()\n",
    "city = df_list.index[0]\n",
    "count = df_list.values[0]\n",
    "\n",
    "df = df[df['City']==city]\n",
    "group = df['Group'].value_counts().index[1]\n",
    "\n",
    "print(city, count, group)\n"
   ]
  },
  {
   "cell_type": "markdown",
   "metadata": {},
   "source": [
    "### Q4: Terror Attack\n",
    "Problem Statement :  \n",
    "Find out the Country with Highest Number of Terror Attack and in which year the most number of terrorist attack happened in that country ?  \n",
    "Print count of terror attacks as integer value."
   ]
  },
  {
   "cell_type": "code",
   "execution_count": 9,
   "metadata": {},
   "outputs": [
    {
     "name": "stdout",
     "output_type": "stream",
     "text": [
      "Iraq 2014 24636\n"
     ]
    }
   ],
   "source": [
    "df = pd.read_csv('terrorismData.csv')\n",
    "df_list = df['Country'].value_counts()\n",
    "df_list.head()\n",
    "country = df_list.index[0]\n",
    "attack = df_list.values[0]\n",
    "df = df[df['Country']==country]\n",
    "year = df['Year'].value_counts().index[0]\n",
    "print(country, year, attack)"
   ]
  },
  {
   "cell_type": "markdown",
   "metadata": {},
   "source": [
    "### Q5: Terror DeadliestAttack\n",
    "Problem Statement :  \n",
    "Most Deadliest attack in a history of HumanKind?  \n",
    "Print count of Killed people as integer value.  \n",
    "Note: Here Deadliest attack means, in which the most number of people killed."
   ]
  },
  {
   "cell_type": "code",
   "execution_count": 10,
   "metadata": {},
   "outputs": [
    {
     "name": "stdout",
     "output_type": "stream",
     "text": [
      "1570 Iraq Islamic State of Iraq and the Levant (ISIL)\n"
     ]
    }
   ],
   "source": [
    "df = pd.read_csv('terrorismData.csv')\n",
    "df = df[df.Killed == df.Killed.max()]\n",
    "mx_killed = df.Killed.iloc[0]\n",
    "country = df.Country.iloc[0]\n",
    "group = df.Group.iloc[0]\n",
    "print(int(mx_killed), country, group)"
   ]
  },
  {
   "cell_type": "markdown",
   "metadata": {},
   "source": [
    "#### Q6: Terror Government\n",
    "Problem Statement :\n",
    "There was formation of new government in India on 26 May 2014. So current government's span is from 26th May 2014 to current. Find out two things from this period-  \n",
    "   1. Total number of attacks done in this period in India. Find this count as integer.  \n",
    "   2. Which Terrorist group was most active in this period in India. Most active means, group which has done maximum number of       attacks.  \n",
    "   3. Ignore the Unknown group. "
   ]
  },
  {
   "cell_type": "code",
   "execution_count": 14,
   "metadata": {},
   "outputs": [
    {
     "name": "stdout",
     "output_type": "stream",
     "text": [
      "9781 Maoists\n"
     ]
    }
   ],
   "source": [
    "import pandas as pd\n",
    "import numpy as np\n",
    "df = pd.read_csv('terrorismData.csv')\n",
    "\n",
    "a = df[df.Day>=26]\n",
    "b = a[a.Year==2014]\n",
    "c = b[b.Country=='India']\n",
    "ans1 = c[c.Month==5]\n",
    "\n",
    "\n",
    "d = df[df.Year==2014]\n",
    "e = df[df.Country=='India']\n",
    "ans2 = e[e.Month>5]\n",
    "\n",
    "f = df[df.Country =='India']\n",
    "ans3= f[f.Year > 2014]\n",
    "\n",
    "count = ans1.shape[0] + ans2.shape[0] + ans3.shape[0]\n",
    "ans1=ans1[ans1.Group!='Unknown']\n",
    "ans2=ans2[ans2.Group!='Unknown']\n",
    "ans3=ans3[ans3.Group!='Unknown']\n",
    "\n",
    "print(count, ans3.Group.describe().top)\n"
   ]
  },
  {
   "cell_type": "markdown",
   "metadata": {},
   "source": [
    "### Q7: Terror Frequency\n",
    "Problem Statement :  \n",
    "Find the frequency of the Casualty in Red Corridor states and in Jammu and Kashmir ?Here Frequency is (Total Casualty/Total Number of a year)  \n",
    "Print frequency as integer value.  \n",
    "Note:Red Corridor state includes Jharkhand, Odisha, Andhra Pradesh, and Chhattisgarh. Here Casualty=Killed +Wounded.Don't fill the nan value present in Killed and Wounded feature."
   ]
  },
  {
   "cell_type": "code",
   "execution_count": 26,
   "metadata": {},
   "outputs": [
    {
     "name": "stdout",
     "output_type": "stream",
     "text": [
      "115 261\n"
     ]
    }
   ],
   "source": [
    "import pandas as pd\n",
    "import numpy as np\n",
    "df = pd.read_csv('terrorismData.csv')\n",
    "year = len(set(df['Year']))\n",
    "\n",
    "df = df[df.Country == 'India']\n",
    "# New Col\n",
    "df['Casualty'] = df['Killed'] + df['Wounded']\n",
    "\n",
    "# Creating new dataframes\n",
    "rc = df[(df.State == 'Jharkhand') | (df.State == 'Odisha') | (df.State == 'Andhra Pradesh') | (df.State == 'Chhattisgarh')]\n",
    "jk = df[df.State == 'Jammu and Kashmir']\n",
    "\n",
    "# Storing sums in var\n",
    "jkc = int(np.sum(jk['Casualty']))\n",
    "rcc = int(np.sum(rc['Casualty']))\n",
    "\n",
    "print(rcc//year, jkc//year)"
   ]
  },
  {
   "cell_type": "code",
   "execution_count": null,
   "metadata": {},
   "outputs": [],
   "source": []
  }
 ],
 "metadata": {
  "interpreter": {
   "hash": "5f64f01a6cdb813bd23f3c2980301e513b65108ef9650403b1a46775be8a9390"
  },
  "kernelspec": {
   "display_name": "Python 3.8.8 ('base')",
   "language": "python",
   "name": "python3"
  },
  "language_info": {
   "codemirror_mode": {
    "name": "ipython",
    "version": 3
   },
   "file_extension": ".py",
   "mimetype": "text/x-python",
   "name": "python",
   "nbconvert_exporter": "python",
   "pygments_lexer": "ipython3",
   "version": "3.8.8"
  },
  "orig_nbformat": 4
 },
 "nbformat": 4,
 "nbformat_minor": 2
}

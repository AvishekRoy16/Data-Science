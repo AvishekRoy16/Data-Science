{
 "cells": [
  {
   "cell_type": "markdown",
   "metadata": {},
   "source": [
    "# Simple Random Sampling"
   ]
  },
  {
   "cell_type": "code",
   "execution_count": 1,
   "metadata": {},
   "outputs": [],
   "source": [
    "import pandas as pd"
   ]
  },
  {
   "cell_type": "code",
   "execution_count": 2,
   "metadata": {},
   "outputs": [
    {
     "data": {
      "text/html": [
       "<div>\n",
       "<style scoped>\n",
       "    .dataframe tbody tr th:only-of-type {\n",
       "        vertical-align: middle;\n",
       "    }\n",
       "\n",
       "    .dataframe tbody tr th {\n",
       "        vertical-align: top;\n",
       "    }\n",
       "\n",
       "    .dataframe thead th {\n",
       "        text-align: right;\n",
       "    }\n",
       "</style>\n",
       "<table border=\"1\" class=\"dataframe\">\n",
       "  <thead>\n",
       "    <tr style=\"text-align: right;\">\n",
       "      <th></th>\n",
       "      <th>SNo</th>\n",
       "      <th>Date</th>\n",
       "      <th>StartupName</th>\n",
       "      <th>IndustryVertical</th>\n",
       "      <th>SubVertical</th>\n",
       "      <th>CityLocation</th>\n",
       "      <th>InvestorsName</th>\n",
       "      <th>InvestmentType</th>\n",
       "      <th>AmountInUSD</th>\n",
       "      <th>Remarks</th>\n",
       "    </tr>\n",
       "  </thead>\n",
       "  <tbody>\n",
       "    <tr>\n",
       "      <th>0</th>\n",
       "      <td>0</td>\n",
       "      <td>01/08/2017</td>\n",
       "      <td>TouchKin</td>\n",
       "      <td>Technology</td>\n",
       "      <td>Predictive Care Platform</td>\n",
       "      <td>Bangalore</td>\n",
       "      <td>Kae Capital</td>\n",
       "      <td>Private Equity</td>\n",
       "      <td>1,300,000</td>\n",
       "      <td>NaN</td>\n",
       "    </tr>\n",
       "    <tr>\n",
       "      <th>1</th>\n",
       "      <td>1</td>\n",
       "      <td>02/08/2017</td>\n",
       "      <td>Ethinos</td>\n",
       "      <td>Technology</td>\n",
       "      <td>Digital Marketing Agency</td>\n",
       "      <td>Mumbai</td>\n",
       "      <td>Triton Investment Advisors</td>\n",
       "      <td>Private Equity</td>\n",
       "      <td>NaN</td>\n",
       "      <td>NaN</td>\n",
       "    </tr>\n",
       "    <tr>\n",
       "      <th>2</th>\n",
       "      <td>2</td>\n",
       "      <td>02/08/2017</td>\n",
       "      <td>Leverage Edu</td>\n",
       "      <td>Consumer Internet</td>\n",
       "      <td>Online platform for Higher Education Services</td>\n",
       "      <td>New Delhi</td>\n",
       "      <td>Kashyap Deorah, Anand Sankeshwar, Deepak Jain,...</td>\n",
       "      <td>Seed Funding</td>\n",
       "      <td>NaN</td>\n",
       "      <td>NaN</td>\n",
       "    </tr>\n",
       "    <tr>\n",
       "      <th>3</th>\n",
       "      <td>3</td>\n",
       "      <td>02/08/2017</td>\n",
       "      <td>Zepo</td>\n",
       "      <td>Consumer Internet</td>\n",
       "      <td>DIY Ecommerce platform</td>\n",
       "      <td>Mumbai</td>\n",
       "      <td>Kunal Shah, LetsVenture, Anupam Mittal, Hetal ...</td>\n",
       "      <td>Seed Funding</td>\n",
       "      <td>500,000</td>\n",
       "      <td>NaN</td>\n",
       "    </tr>\n",
       "    <tr>\n",
       "      <th>4</th>\n",
       "      <td>4</td>\n",
       "      <td>02/08/2017</td>\n",
       "      <td>Click2Clinic</td>\n",
       "      <td>Consumer Internet</td>\n",
       "      <td>healthcare service aggregator</td>\n",
       "      <td>Hyderabad</td>\n",
       "      <td>Narottam Thudi, Shireesh Palle</td>\n",
       "      <td>Seed Funding</td>\n",
       "      <td>850,000</td>\n",
       "      <td>NaN</td>\n",
       "    </tr>\n",
       "  </tbody>\n",
       "</table>\n",
       "</div>"
      ],
      "text/plain": [
       "   SNo        Date   StartupName   IndustryVertical  \\\n",
       "0    0  01/08/2017      TouchKin         Technology   \n",
       "1    1  02/08/2017       Ethinos         Technology   \n",
       "2    2  02/08/2017  Leverage Edu  Consumer Internet   \n",
       "3    3  02/08/2017          Zepo  Consumer Internet   \n",
       "4    4  02/08/2017  Click2Clinic  Consumer Internet   \n",
       "\n",
       "                                     SubVertical CityLocation  \\\n",
       "0                       Predictive Care Platform    Bangalore   \n",
       "1                       Digital Marketing Agency       Mumbai   \n",
       "2  Online platform for Higher Education Services    New Delhi   \n",
       "3                         DIY Ecommerce platform       Mumbai   \n",
       "4                  healthcare service aggregator    Hyderabad   \n",
       "\n",
       "                                       InvestorsName  InvestmentType  \\\n",
       "0                                        Kae Capital  Private Equity   \n",
       "1                         Triton Investment Advisors  Private Equity   \n",
       "2  Kashyap Deorah, Anand Sankeshwar, Deepak Jain,...    Seed Funding   \n",
       "3  Kunal Shah, LetsVenture, Anupam Mittal, Hetal ...    Seed Funding   \n",
       "4                     Narottam Thudi, Shireesh Palle    Seed Funding   \n",
       "\n",
       "  AmountInUSD Remarks  \n",
       "0   1,300,000     NaN  \n",
       "1         NaN     NaN  \n",
       "2         NaN     NaN  \n",
       "3     500,000     NaN  \n",
       "4     850,000     NaN  "
      ]
     },
     "execution_count": 2,
     "metadata": {},
     "output_type": "execute_result"
    }
   ],
   "source": [
    "data = pd.read_csv('startup_funding.csv')\n",
    "data.head()"
   ]
  },
  {
   "cell_type": "code",
   "execution_count": 3,
   "metadata": {},
   "outputs": [
    {
     "data": {
      "text/plain": [
       "0    1,300,000\n",
       "1          NaN\n",
       "2          NaN\n",
       "3      500,000\n",
       "4      850,000\n",
       "Name: AmountInUSD, dtype: object"
      ]
     },
     "execution_count": 3,
     "metadata": {},
     "output_type": "execute_result"
    }
   ],
   "source": [
    "amount = data['AmountInUSD']\n",
    "amount.head()"
   ]
  },
  {
   "cell_type": "code",
   "execution_count": 4,
   "metadata": {},
   "outputs": [
    {
     "data": {
      "text/plain": [
       "0    1,300,000\n",
       "3      500,000\n",
       "4      850,000\n",
       "5    1,000,000\n",
       "6    2,600,000\n",
       "Name: AmountInUSD, dtype: object"
      ]
     },
     "execution_count": 4,
     "metadata": {},
     "output_type": "execute_result"
    }
   ],
   "source": [
    "# To remove the null values\n",
    "amount.dropna(inplace= True)\n",
    "amount.head()"
   ]
  },
  {
   "cell_type": "code",
   "execution_count": 5,
   "metadata": {},
   "outputs": [
    {
     "data": {
      "text/plain": [
       "0    1300000\n",
       "3     500000\n",
       "4     850000\n",
       "5    1000000\n",
       "6    2600000\n",
       "Name: AmountInUSD, dtype: object"
      ]
     },
     "execution_count": 5,
     "metadata": {},
     "output_type": "execute_result"
    }
   ],
   "source": [
    "# As we can see that we have , in between numbers so they must be str type, to convert we have to remove the , \n",
    "a1 = amount.str.replace(',', '')\n",
    "a1.head()"
   ]
  },
  {
   "cell_type": "code",
   "execution_count": 6,
   "metadata": {},
   "outputs": [
    {
     "data": {
      "text/plain": [
       "'1300000'"
      ]
     },
     "execution_count": 6,
     "metadata": {},
     "output_type": "execute_result"
    }
   ],
   "source": [
    "# As we can see there it is still of type string\n",
    "a1[0]"
   ]
  },
  {
   "cell_type": "code",
   "execution_count": 7,
   "metadata": {},
   "outputs": [
    {
     "data": {
      "text/plain": [
       "1300000"
      ]
     },
     "execution_count": 7,
     "metadata": {},
     "output_type": "execute_result"
    }
   ],
   "source": [
    "# To convert string to integer\n",
    "a2 = pd.to_numeric(a1)\n",
    "a2[0]"
   ]
  },
  {
   "cell_type": "code",
   "execution_count": 9,
   "metadata": {},
   "outputs": [
    {
     "name": "stdout",
     "output_type": "stream",
     "text": [
      "12031073.099016393\n",
      "16000\n",
      "1400000000\n"
     ]
    }
   ],
   "source": [
    "pop_avg = a2.mean()\n",
    "pop_min = a2.min()\n",
    "pop_max = a2.max()\n",
    "print(pop_avg)\n",
    "print(pop_min)\n",
    "print(pop_max)"
   ]
  },
  {
   "cell_type": "code",
   "execution_count": 17,
   "metadata": {},
   "outputs": [
    {
     "data": {
      "text/plain": [
       "142      4000000\n",
       "1931    16200000\n",
       "309       325000\n",
       "985     25000000\n",
       "439        18000\n",
       "          ...   \n",
       "1347     3000000\n",
       "1810    30000000\n",
       "1721      150000\n",
       "1913    30000000\n",
       "777      1500000\n",
       "Name: AmountInUSD, Length: 100, dtype: int64"
      ]
     },
     "execution_count": 17,
     "metadata": {},
     "output_type": "execute_result"
    }
   ],
   "source": [
    "sample_size = 100\n",
    "# To randomly select(wihthou replacement) records form the population we can use dataframes(pandas)\n",
    "population = a2\n",
    "sample = population.sample(sample_size, random_state=1)\n",
    "sample"
   ]
  },
  {
   "cell_type": "code",
   "execution_count": 16,
   "metadata": {},
   "outputs": [
    {
     "data": {
      "text/plain": [
       "(100,)"
      ]
     },
     "execution_count": 16,
     "metadata": {},
     "output_type": "execute_result"
    }
   ],
   "source": [
    "sample.shape"
   ]
  },
  {
   "cell_type": "code",
   "execution_count": 20,
   "metadata": {},
   "outputs": [
    {
     "name": "stdout",
     "output_type": "stream",
     "text": [
      "12031073.099016393 24592930.0\n",
      "1400000000 1400000000\n",
      "16000 18000\n"
     ]
    }
   ],
   "source": [
    "sample_avg = sample.mean()\n",
    "sample_min = sample.min()\n",
    "sample_max = sample.max()\n",
    "# pop_ things parameters, sample_ things are statistic - sample error = parameter - statistic\n",
    "print(pop_avg, sample_avg)\n",
    "print(pop_max, sample_max)\n",
    "print(pop_min, sample_min)"
   ]
  }
 ],
 "metadata": {
  "interpreter": {
   "hash": "5f64f01a6cdb813bd23f3c2980301e513b65108ef9650403b1a46775be8a9390"
  },
  "kernelspec": {
   "display_name": "Python 3.8.8 64-bit ('base': conda)",
   "language": "python",
   "name": "python3"
  },
  "language_info": {
   "codemirror_mode": {
    "name": "ipython",
    "version": 3
   },
   "file_extension": ".py",
   "mimetype": "text/x-python",
   "name": "python",
   "nbconvert_exporter": "python",
   "pygments_lexer": "ipython3",
   "version": "3.8.8"
  },
  "orig_nbformat": 4
 },
 "nbformat": 4,
 "nbformat_minor": 2
}
